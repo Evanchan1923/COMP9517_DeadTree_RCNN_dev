{
 "cells": [
  {
   "cell_type": "code",
   "execution_count": 1,
   "id": "211a0ef7",
   "metadata": {},
   "outputs": [
    {
     "name": "stderr",
     "output_type": "stream",
     "text": [
      "/Users/evanchan19/miniconda3/envs/test/lib/python3.10/site-packages/tqdm/auto.py:21: TqdmWarning: IProgress not found. Please update jupyter and ipywidgets. See https://ipywidgets.readthedocs.io/en/stable/user_install.html\n",
      "  from .autonotebook import tqdm as notebook_tqdm\n"
     ]
    },
    {
     "name": "stdout",
     "output_type": "stream",
     "text": [
      "Downloading from https://www.kaggle.com/api/v1/datasets/download/meteahishali/aerial-imagery-for-standing-dead-tree-segmentation?dataset_version_number=1...\n"
     ]
    },
    {
     "name": "stderr",
     "output_type": "stream",
     "text": [
      "100%|██████████| 258M/258M [03:38<00:00, 1.24MB/s] "
     ]
    },
    {
     "name": "stdout",
     "output_type": "stream",
     "text": [
      "Extracting files...\n"
     ]
    },
    {
     "name": "stderr",
     "output_type": "stream",
     "text": [
      "\n"
     ]
    },
    {
     "name": "stdout",
     "output_type": "stream",
     "text": [
      "Path to dataset files: /Users/evanchan19/.cache/kagglehub/datasets/meteahishali/aerial-imagery-for-standing-dead-tree-segmentation/versions/1\n"
     ]
    }
   ],
   "source": [
    "import kagglehub\n",
    "\n",
    "# Download latest version\n",
    "path = kagglehub.dataset_download(\"meteahishali/aerial-imagery-for-standing-dead-tree-segmentation\")\n",
    "\n",
    "print(\"Path to dataset files:\", path)"
   ]
  },
  {
   "cell_type": "code",
   "execution_count": 1,
   "id": "d7b20d12",
   "metadata": {},
   "outputs": [
    {
     "data": {
      "text/plain": [
       "'/Users/evanchan19/Desktop/COMP9517/project'"
      ]
     },
     "execution_count": 1,
     "metadata": {},
     "output_type": "execute_result"
    }
   ],
   "source": [
    "import os\n",
    "os.getcwd()"
   ]
  },
  {
   "cell_type": "code",
   "execution_count": 4,
   "id": "053690de",
   "metadata": {},
   "outputs": [
    {
     "name": "stdout",
     "output_type": "stream",
     "text": [
      "\n",
      "✅ All masks valid: grayscale + binary (0/255)\n"
     ]
    }
   ],
   "source": [
    "import os\n",
    "import shutil\n",
    "import random\n",
    "from PIL import Image\n",
    "import numpy as np\n",
    "import pandas as pd\n",
    "\n",
    "# 相对路径（你当前在 COMP9517/project 下）\n",
    "dataset_dir = \"data/USA_segmentation\"\n",
    "rgb_dir = os.path.join(dataset_dir, \"RGB_images\")\n",
    "nrg_dir = os.path.join(dataset_dir, \"NRG_images\")\n",
    "mask_dir = os.path.join(dataset_dir, \"masks\")\n",
    "\n",
    "# 创建 train/val 子文件夹\n",
    "for split in [\"train\", \"val\"]:\n",
    "    for subfolder in [\"RGB_images\", \"NRG_images\", \"masks\"]:\n",
    "        os.makedirs(os.path.join(dataset_dir, split, subfolder), exist_ok=True)\n",
    "\n",
    "# 构建 {core_name: full_filename} 映射，例如 core_name = ar037_2019_n_06_04_0.png\n",
    "def build_core_map(directory, prefix):\n",
    "    return {\n",
    "        f[len(prefix):]: f\n",
    "        for f in os.listdir(directory)\n",
    "        if f.startswith(prefix) and f.lower().endswith((\".png\", \".jpg\", \".jpeg\"))\n",
    "    }\n",
    "\n",
    "# 三类文件的映射\n",
    "rgb_map = build_core_map(rgb_dir, \"RGB_\")\n",
    "nrg_map = build_core_map(nrg_dir, \"NRG_\")\n",
    "mask_map = build_core_map(mask_dir, \"mask_\")\n",
    "\n",
    "# 取三者共有的 core name\n",
    "matched_core_names = sorted(list(set(rgb_map) & set(nrg_map) & set(mask_map)))\n",
    "random.seed(42)\n",
    "random.shuffle(matched_core_names)\n",
    "\n",
    "# 80/20 拆分\n",
    "split_index = int(len(matched_core_names) * 0.8)\n",
    "train_cores = matched_core_names[:split_index]\n",
    "val_cores = matched_core_names[split_index:]\n",
    "\n",
    "# 拷贝文件到对应位置\n",
    "def copy_from_map(core_list, split):\n",
    "    for core in core_list:\n",
    "        shutil.copy(os.path.join(rgb_dir, rgb_map[core]), os.path.join(dataset_dir, split, \"RGB_images\", rgb_map[core]))\n",
    "        shutil.copy(os.path.join(nrg_dir, nrg_map[core]), os.path.join(dataset_dir, split, \"NRG_images\", nrg_map[core]))\n",
    "        shutil.copy(os.path.join(mask_dir, mask_map[core]), os.path.join(dataset_dir, split, \"masks\", mask_map[core]))\n",
    "\n",
    "copy_from_map(train_cores, \"train\")\n",
    "copy_from_map(val_cores, \"val\")\n",
    "\n",
    "# 检查 mask 是否为灰度图并且是二值图（0 或 255）\n",
    "invalid_masks = []\n",
    "\n",
    "def validate_masks(mask_folder):\n",
    "    for fname in os.listdir(mask_folder):\n",
    "        try:\n",
    "            img = Image.open(os.path.join(mask_folder, fname)).convert(\"L\")\n",
    "            arr = np.array(img)\n",
    "            if arr.ndim != 2 or not np.isin(arr, [0, 255]).all():\n",
    "                invalid_masks.append(os.path.join(mask_folder, fname))\n",
    "        except Exception:\n",
    "            invalid_masks.append(os.path.join(mask_folder, fname))\n",
    "\n",
    "validate_masks(os.path.join(dataset_dir, \"train\", \"masks\"))\n",
    "validate_masks(os.path.join(dataset_dir, \"val\", \"masks\"))\n",
    "\n",
    "# 输出无效文件（如果有）\n",
    "if invalid_masks:\n",
    "    print(\"\\n❌ Invalid mask files (non-binary or wrong format):\")\n",
    "    for f in invalid_masks:\n",
    "        print(\" -\", f)\n",
    "else:\n",
    "    print(\"\\n✅ All masks valid: grayscale + binary (0/255)\")\n"
   ]
  },
  {
   "cell_type": "code",
   "execution_count": 1,
   "id": "12ce6337",
   "metadata": {},
   "outputs": [
    {
     "name": "stdout",
     "output_type": "stream",
     "text": [
      "✅ Scanned 355 images in: /Users/evanchan19/Desktop/COMP9517/project/data/USA_segmentation/train/RGB_images\n",
      "- Unique image sizes: {(393, 410), (376, 398), (422, 421), (384, 412), (354, 380), (326, 349), (318, 336), (365, 394), (372, 379), (386, 378), (348, 363), (385, 366), (462, 487), (414, 413), (344, 364), (380, 378), (390, 410), (547, 547), (522, 563), (445, 448), (352, 363), (357, 348), (454, 417), (362, 358), (356, 363), (378, 384), (357, 379), (358, 379), (366, 395), (329, 352), (568, 614), (442, 470), (339, 366), (350, 345), (541, 528), (461, 449), (321, 342), (349, 371), (424, 414), (321, 354), (307, 338), (342, 357), (343, 361), (362, 360), (419, 417), (350, 362), (379, 421), (416, 425), (324, 354), (370, 363), (458, 457), (340, 333), (401, 425), (365, 358), (415, 443), (447, 475), (439, 430), (366, 405), (343, 358), (364, 374), (352, 342), (333, 343), (338, 345), (360, 398), (315, 340), (361, 399), (466, 463), (433, 450), (353, 389), (387, 370), (390, 408), (334, 366), (356, 372), (481, 478), (352, 384), (366, 390), (392, 382), (434, 445), (336, 352), (354, 367), (351, 380), (534, 589), (340, 373), (341, 353), (363, 404), (387, 379), (312, 350), (489, 468), (382, 361), (403, 411), (305, 323), (404, 412), (461, 485), (441, 448), (477, 518), (427, 426), (425, 431), (403, 442), (370, 366), (405, 418), (409, 379), (417, 395), (387, 421), (379, 373), (389, 381), (360, 378), (341, 371), (309, 329), (401, 405), (381, 388), (392, 388), (584, 589), (458, 465), (346, 355), (333, 379), (384, 400), (360, 347), (411, 417), (395, 427), (304, 324), (400, 399), (324, 363), (440, 433), (451, 426), (344, 368), (636, 630), (356, 374), (345, 372), (386, 408), (354, 371), (367, 375), (338, 334), (425, 470), (384, 397), (336, 354), (363, 346), (383, 392), (348, 382), (328, 343), (362, 391), (419, 439), (393, 392), (373, 354), (508, 483), (349, 374), (344, 375), (370, 373), (424, 411), (375, 394), (408, 411), (382, 369), (351, 345), (342, 358), (611, 593), (332, 341), (443, 427), (580, 596), (370, 364), (466, 473), (356, 356), (350, 403), (408, 392), (338, 346), (360, 380), (329, 345), (474, 492), (369, 361), (340, 355), (350, 366), (368, 379), (440, 428), (425, 440), (457, 455), (414, 422), (454, 466), (470, 465), (342, 368), (461, 443), (367, 360), (330, 343), (366, 387), (368, 390), (396, 430), (408, 406), (360, 362), (332, 344), (386, 426), (353, 349), (360, 368), (348, 376), (328, 345), (393, 398), (395, 414), (340, 351), (406, 432), (353, 402), (419, 415), (375, 366), (377, 419), (367, 400), (315, 317), (375, 388), (327, 333), (352, 376), (384, 390), (354, 493), (441, 482), (398, 392), (373, 361), (400, 405), (311, 330), (410, 413), (478, 457), (355, 370), (392, 374), (336, 360), (323, 350), (354, 343), (389, 377), (364, 388), (339, 355), (429, 439), (375, 380), (321, 347), (378, 412), (485, 472), (419, 403), (553, 543), (345, 375), (447, 449), (406, 414), (342, 374), (336, 329), (409, 396), (367, 362), (333, 337), (318, 344), (324, 329), (369, 352), (426, 410), (355, 352), (384, 385), (397, 440), (370, 399), (628, 607), (512, 498), (366, 379), (323, 338), (389, 373), (340, 371), (441, 449), (328, 347), (378, 392), (415, 407), (465, 494), (343, 370), (329, 360), (379, 360), (478, 520), (347, 359), (430, 442), (414, 409), (334, 356), (437, 445), (411, 392), (361, 364), (378, 373), (338, 368), (366, 367), (381, 420), (340, 367), (359, 361), (320, 341), (619, 587), (340, 341), (387, 394), (415, 389), (375, 404), (376, 408), (378, 388), (356, 373), (342, 372), (358, 345), (339, 362), (328, 368), (393, 393), (371, 344), (347, 363), (335, 364), (399, 373), (331, 344), (434, 437), (556, 564), (381, 400), (340, 347), (349, 362), (413, 405), (302, 328), (352, 380), (386, 391), (336, 351), (398, 396), (353, 362), (337, 367), (340, 354), (505, 490), (382, 354), (357, 372), (444, 468), (413, 418), (360, 348), (459, 437), (330, 342), (337, 334), (392, 378), (297, 322), (322, 330), (348, 352), (442, 432), (366, 343), (507, 509), (378, 408), (392, 396), (330, 365), (465, 478), (447, 461), (359, 351), (332, 363), (375, 396), (352, 352), (332, 351), (300, 319), (431, 466), (496, 499), (398, 426), (350, 381), (347, 365), (359, 382), (424, 412), (414, 403), (407, 390), (419, 379), (302, 327), (327, 338), (336, 346), (449, 448), (347, 342), (359, 387), (409, 421), (372, 380), (314, 331)}\n",
      "- Average size: 395.6 x 385.1\n",
      "- Min size: 317 x 297\n",
      "- Max size: 630 x 636\n"
     ]
    },
    {
     "data": {
      "text/plain": [
       "(array([366, 396, 352, 366, 354, 399, 389, 362, 413, 346, 354, 379, 465,\n",
       "        547, 443, 346, 448, 392, 361, 342, 352, 369, 349, 415, 358, 433,\n",
       "        370, 360, 396, 564, 364, 347, 411, 343, 379, 398, 392, 403, 468,\n",
       "        374, 392, 364, 426, 344, 388, 391, 342, 361, 449, 414, 448, 413,\n",
       "        329, 404, 408, 338, 450, 367, 375, 351, 379, 363, 493, 440, 360,\n",
       "        418, 392, 373, 359, 363, 354, 356, 355, 353, 390, 368, 371, 470,\n",
       "        402, 420, 397, 372, 387, 370, 393, 428, 390, 411, 343, 384, 425,\n",
       "        410, 368, 354, 344, 371, 352, 379, 374, 347, 421, 381, 366, 346,\n",
       "        362, 466, 380, 363, 410, 362, 408, 379, 371, 432, 343, 398, 317,\n",
       "        333, 330, 329, 400, 345, 374, 347, 343, 367, 403, 395, 385, 360,\n",
       "        358, 373, 378, 405, 427, 341, 421, 378, 345, 407, 392, 334, 352,\n",
       "        343, 395, 362, 349, 354, 371, 443, 380, 345, 365, 376, 342, 427,\n",
       "        430, 394, 363, 404, 482, 388, 338, 351, 475, 330, 351, 366, 390,\n",
       "        323, 337, 379, 437, 426, 396, 367, 412, 344, 358, 372, 345, 389,\n",
       "        345, 329, 408, 400, 319, 388, 360, 372, 361, 333, 426, 379, 408,\n",
       "        417, 345, 367, 396, 348, 382, 351, 405, 380, 355, 405, 431, 414,\n",
       "        463, 373, 378, 465, 361, 363, 379, 373, 366, 363, 344, 352, 380,\n",
       "        382, 398, 412, 380, 356, 442, 374, 421, 399, 400, 375, 371, 350,\n",
       "        338, 342, 336, 419, 387, 368, 363, 412, 391, 362, 382, 394, 360,\n",
       "        361, 341, 390, 365, 354, 358, 341, 347, 384, 421, 322, 364, 388,\n",
       "        376, 379, 377, 439, 373, 381, 348, 364, 344, 324, 378, 350, 357,\n",
       "        375, 374, 414, 399, 405, 403, 355, 334, 366, 331, 368, 350, 328,\n",
       "        368, 340, 327, 372, 370, 589, 352, 426, 417, 449, 593, 409, 410,\n",
       "        362, 373, 373, 485, 478, 412, 437, 499, 439, 607, 614, 587, 543,\n",
       "        466, 425, 411, 494, 417, 487, 470, 449, 518, 490, 457, 478, 388,\n",
       "        472, 498, 492, 457, 563, 473, 461, 406, 442, 589, 455, 380, 432,\n",
       "        468, 630, 405, 440, 392, 418, 528, 394, 445, 445, 448, 430, 520,\n",
       "        422, 483, 596, 509]),\n",
       " array([385, 409, 352, 370, 373, 400, 415, 360, 414, 338, 382, 409, 458,\n",
       "        547, 461, 363, 449, 383, 373, 352, 369, 382, 353, 419, 362, 440,\n",
       "        387, 379, 392, 556, 370, 360, 403, 366, 419, 393, 378, 419, 489,\n",
       "        392, 411, 361, 451, 371, 381, 386, 347, 343, 447, 424, 441, 410,\n",
       "        309, 375, 386, 307, 433, 337, 344, 340, 333, 356, 354, 397, 329,\n",
       "        413, 393, 356, 347, 347, 324, 356, 339, 341, 368, 360, 349, 425,\n",
       "        353, 381, 384, 357, 359, 355, 393, 440, 407, 408, 354, 378, 416,\n",
       "        426, 342, 336, 332, 341, 329, 357, 364, 328, 387, 350, 334, 336,\n",
       "        349, 431, 351, 332, 390, 350, 378, 358, 349, 442, 333, 376, 315,\n",
       "        327, 322, 324, 384, 338, 356, 321, 328, 354, 414, 417, 384, 362,\n",
       "        343, 389, 380, 413, 443, 340, 422, 386, 351, 415, 408, 337, 355,\n",
       "        330, 366, 353, 326, 321, 340, 415, 360, 329, 330, 348, 330, 395,\n",
       "        396, 375, 348, 363, 441, 375, 323, 332, 447, 311, 336, 350, 366,\n",
       "        305, 333, 366, 434, 398, 375, 340, 424, 332, 342, 345, 350, 353,\n",
       "        328, 336, 376, 367, 300, 364, 336, 342, 382, 340, 427, 372, 390,\n",
       "        454, 358, 366, 398, 360, 392, 359, 401, 372, 340, 400, 425, 406,\n",
       "        466, 370, 392, 470, 359, 370, 387, 399, 339, 324, 318, 336, 354,\n",
       "        348, 360, 378, 352, 334, 403, 342, 379, 370, 381, 345, 354, 323,\n",
       "        327, 321, 318, 377, 366, 328, 352, 384, 362, 339, 359, 365, 367,\n",
       "        369, 332, 384, 347, 340, 365, 320, 340, 352, 409, 297, 344, 378,\n",
       "        352, 368, 389, 429, 340, 389, 357, 335, 331, 304, 360, 312, 342,\n",
       "        367, 349, 395, 361, 366, 350, 346, 338, 375, 314, 338, 323, 302,\n",
       "        344, 315, 302, 356, 343, 584, 348, 386, 419, 441, 611, 414, 393,\n",
       "        367, 379, 378, 461, 481, 404, 459, 496, 419, 628, 568, 619, 553,\n",
       "        454, 401, 424, 465, 411, 462, 442, 461, 477, 505, 478, 465, 392,\n",
       "        485, 512, 474, 458, 522, 466, 447, 408, 430, 534, 457, 375, 406,\n",
       "        444, 636, 401, 425, 398, 405, 541, 387, 434, 437, 445, 439, 478,\n",
       "        414, 508, 580, 507]))"
      ]
     },
     "execution_count": 1,
     "metadata": {},
     "output_type": "execute_result"
    }
   ],
   "source": [
    "import os\n",
    "import cv2\n",
    "import numpy as np\n",
    "\n",
    "def analyze_image_sizes(image_dir):\n",
    "    heights, widths = [], []\n",
    "    image_files = sorted([\n",
    "        f for f in os.listdir(image_dir)\n",
    "        if f.lower().endswith(('.png', '.jpg', '.jpeg'))\n",
    "    ])\n",
    "\n",
    "    for fname in image_files:\n",
    "        path = os.path.join(image_dir, fname)\n",
    "        img = cv2.imread(path)\n",
    "        if img is None:\n",
    "            print(f\"⚠️ Failed to load: {fname}\")\n",
    "            continue\n",
    "        h, w = img.shape[:2]\n",
    "        heights.append(h)\n",
    "        widths.append(w)\n",
    "\n",
    "    heights = np.array(heights)\n",
    "    widths = np.array(widths)\n",
    "\n",
    "    print(f\"✅ Scanned {len(heights)} images in: {image_dir}\")\n",
    "    print(f\"- Unique image sizes: {set(zip(heights, widths))}\")\n",
    "    print(f\"- Average size: {np.mean(widths):.1f} x {np.mean(heights):.1f}\")\n",
    "    print(f\"- Min size: {np.min(widths)} x {np.min(heights)}\")\n",
    "    print(f\"- Max size: {np.max(widths)} x {np.max(heights)}\")\n",
    "\n",
    "    return widths, heights\n",
    "\n",
    "# 替换为你要分析的目录（RGB 或 NRG）\n",
    "image_dir = \"/Users/evanchan19/Desktop/COMP9517/project/data/USA_segmentation/train/RGB_images\"\n",
    "analyze_image_sizes(image_dir)\n"
   ]
  }
 ],
 "metadata": {
  "kernelspec": {
   "display_name": "rcnn_dev",
   "language": "python",
   "name": "python3"
  },
  "language_info": {
   "codemirror_mode": {
    "name": "ipython",
    "version": 3
   },
   "file_extension": ".py",
   "mimetype": "text/x-python",
   "name": "python",
   "nbconvert_exporter": "python",
   "pygments_lexer": "ipython3",
   "version": "3.7.16"
  }
 },
 "nbformat": 4,
 "nbformat_minor": 5
}
